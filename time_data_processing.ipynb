{
 "cells": [
  {
   "cell_type": "code",
   "execution_count": 150,
   "metadata": {},
   "outputs": [],
   "source": [
    "import numpy as np\n",
    "import pandas as pd\n",
    "import datetime\n",
    "import matplotlib.pyplot as plt\n",
    "import matplotlib\n",
    "import scipy.stats"
   ]
  },
  {
   "cell_type": "code",
   "execution_count": 151,
   "metadata": {},
   "outputs": [
    {
     "data": {
      "text/html": [
       "<div>\n",
       "<style scoped>\n",
       "    .dataframe tbody tr th:only-of-type {\n",
       "        vertical-align: middle;\n",
       "    }\n",
       "\n",
       "    .dataframe tbody tr th {\n",
       "        vertical-align: top;\n",
       "    }\n",
       "\n",
       "    .dataframe thead th {\n",
       "        text-align: right;\n",
       "    }\n",
       "</style>\n",
       "<table border=\"1\" class=\"dataframe\">\n",
       "  <thead>\n",
       "    <tr style=\"text-align: right;\">\n",
       "      <th></th>\n",
       "      <th>e2e_delta</th>\n",
       "    </tr>\n",
       "  </thead>\n",
       "  <tbody>\n",
       "    <tr>\n",
       "      <th>0</th>\n",
       "      <td>984524879</td>\n",
       "    </tr>\n",
       "    <tr>\n",
       "      <th>1</th>\n",
       "      <td>732459708</td>\n",
       "    </tr>\n",
       "    <tr>\n",
       "      <th>2</th>\n",
       "      <td>734638657</td>\n",
       "    </tr>\n",
       "    <tr>\n",
       "      <th>3</th>\n",
       "      <td>682218884</td>\n",
       "    </tr>\n",
       "    <tr>\n",
       "      <th>4</th>\n",
       "      <td>701555710</td>\n",
       "    </tr>\n",
       "  </tbody>\n",
       "</table>\n",
       "</div>"
      ],
      "text/plain": [
       "   e2e_delta\n",
       "0  984524879\n",
       "1  732459708\n",
       "2  734638657\n",
       "3  682218884\n",
       "4  701555710"
      ]
     },
     "execution_count": 151,
     "metadata": {},
     "output_type": "execute_result"
    }
   ],
   "source": [
    "local_data = pd.read_csv(\"results/local_deltas.csv\",index_col = 0)\n",
    "cloud_data = pd.read_csv(\"results/cloud_deltas.csv\",index_col = 0)\n",
    "e2e_data = pd.read_csv(\"results/e2e_deltas.csv\",index_col = 0)\n",
    "e2e_data.head()"
   ]
  },
  {
   "cell_type": "code",
   "execution_count": 152,
   "metadata": {},
   "outputs": [
    {
     "data": {
      "image/png": "[encoded data removed]",
      "text/plain": [
       "<Figure size 432x288 with 1 Axes>"
      ]
     },
     "metadata": {
      "needs_background": "light"
     },
     "output_type": "display_data"
    }
   ],
   "source": [
    "local_data[\"local_delta\"][3:].plot.hist(grid=True, bins=50, rwidth=0.9,color='#607c8e')\n",
    "plt.title('Local Inf Times')\n",
    "plt.ylabel('Counts')\n",
    "plt.xlabel('Inf Time')\n",
    "plt.grid(axis='y', alpha=0.75)"
   ]
  },
  {
   "cell_type": "code",
   "execution_count": 153,
   "metadata": {},
   "outputs": [
    {
     "data": {
      "image/png": "[encoded data removed]",
      "text/plain": [
       "<Figure size 432x288 with 1 Axes>"
      ]
     },
     "metadata": {
      "needs_background": "light"
     },
     "output_type": "display_data"
    }
   ],
   "source": [
    "cloud_data[\"cloud_delta\"][3:].plot.hist(grid=True, bins=50, rwidth=0.9,color='#607c8e')\n",
    "plt.title('Cloud Inf Times')\n",
    "plt.ylabel('Counts')\n",
    "plt.xlabel('Inf Time')\n",
    "plt.grid(axis='y', alpha=0.75)"
   ]
  },
  {
   "cell_type": "code",
   "execution_count": 154,
   "metadata": {},
   "outputs": [
    {
     "data": {
      "image/png": "[encoded data removed]",
      "text/plain": [
       "<Figure size 432x288 with 1 Axes>"
      ]
     },
     "metadata": {
      "needs_background": "light"
     },
     "output_type": "display_data"
    }
   ],
   "source": [
    "e2e_data[\"e2e_delta\"][3:].plot.hist(grid=True, bins=50, rwidth=0.9,color='#607c8e')\n",
    "plt.title('E2E Inf Times')\n",
    "plt.ylabel('Counts')\n",
    "plt.xlabel('Inf Time')\n",
    "plt.grid(axis='y', alpha=0.75)"
   ]
  },
  {
   "cell_type": "code",
   "execution_count": 574,
   "metadata": {},
   "outputs": [],
   "source": [
    "# sigma = np.std(local_data[\"local_delta\"][2:])*10**-6\n",
    "# mu = np.mean(local_data[\"local_delta\"][2:])*10**-6\n",
    "# x = local_data[\"local_delta\"][2:]*10**-6\n",
    "\n",
    "# sigma = np.std(cloud_data[\"cloud_delta\"])*10**-6\n",
    "# mu = np.mean(cloud_data[\"cloud_delta\"])*10**-6 \n",
    "# x = cloud_data[\"cloud_delta\"]*10**-6\n",
    "\n",
    "sigma = np.std(e2e_data[\"e2e_delta\"][2:])*10**-6 \n",
    "mu = np.mean(e2e_data[\"e2e_delta\"][2:])*10**-6 \n",
    "x = e2e_data[\"e2e_delta\"][2:]*10**-6"
   ]
  },
  {
   "cell_type": "code",
   "execution_count": 575,
   "metadata": {},
   "outputs": [
    {
     "name": "stdout",
     "output_type": "stream",
     "text": [
      "mu, sigma:  656.8534439440805 170.20163331621202\n"
     ]
    }
   ],
   "source": [
    "print(\"mu, sigma: \",mu, sigma)"
   ]
  },
  {
   "cell_type": "code",
   "execution_count": 576,
   "metadata": {},
   "outputs": [
    {
     "name": "stdout",
     "output_type": "stream",
     "text": [
      "6259\n",
      "6032\n"
     ]
    }
   ],
   "source": [
    "print(len(x))\n",
    "z_scores = (x - mu)/sigma\n",
    "x = [x for x,z in zip(x,z_scores) if np.abs(z) <= 3.1]\n",
    "print(len(x))"
   ]
  },
  {
   "cell_type": "code",
   "execution_count": 577,
   "metadata": {},
   "outputs": [],
   "source": [
    "def mean_confidence_interval(data, confidence=0.95):\n",
    "    a = 1.0 * np.array(data)\n",
    "    n = len(a)\n",
    "    m, se = np.mean(a), scipy.stats.sem(a)\n",
    "    h = se * scipy.stats.t.ppf((1 + confidence) / 2., n-1)\n",
    "    return m, se, m-h, m+h\n",
    "\n",
    "# mean_confidence_interval(x)"
   ]
  },
  {
   "cell_type": "code",
   "execution_count": 578,
   "metadata": {},
   "outputs": [
    {
     "name": "stdout",
     "output_type": "stream",
     "text": [
      "range:  3.3348876953953095\n",
      "se:  1.7011631048020355\n"
     ]
    }
   ],
   "source": [
    "mu, se, lower, upper = mean_confidence_interval(x)\n",
    "print(\"range: \",upper-mu)\n",
    "print(\"se: \",se)"
   ]
  },
  {
   "cell_type": "code",
   "execution_count": 579,
   "metadata": {},
   "outputs": [
    {
     "name": "stdout",
     "output_type": "stream",
     "text": [
      "-1.3630805002105835\n",
      "SkewtestResult(statistic=-33.33433522560488, pvalue=1.2286891811026962e-243)\n"
     ]
    }
   ],
   "source": [
    "# x= np.concatenate((np.random.normal(0,1,5000),np.random.normal(10,1,1000)))\n",
    "# x= np.random.normal(0,1,5000)\n",
    "\n",
    "\n",
    "print(scipy.stats.skew(x))\n",
    "print(scipy.stats.skewtest(x))"
   ]
  },
  {
   "cell_type": "code",
   "execution_count": 549,
   "metadata": {},
   "outputs": [
    {
     "data": {
      "image/png": "[encoded data removed]",
      "text/plain": [
       "<Figure size 720x360 with 2 Axes>"
      ]
     },
     "metadata": {
      "needs_background": "light"
     },
     "output_type": "display_data"
    }
   ],
   "source": [
    "sample_size = len(x)\n",
    "num_bins = 50\n",
    "\n",
    "fig, ax = plt.subplots(figsize=(10, 5))\n",
    "\n",
    "# the histogram of the data\n",
    "n, bins, patches = ax.hist(x, num_bins, density=0)\n",
    "# add a 'best fit' line\n",
    "y = ((1 / (np.sqrt(2 * np.pi) * sigma)) *\n",
    "     np.exp(-0.5 * (1 / sigma * (bins - mu))**2))\n",
    "\n",
    "ax2 = ax.twinx()\n",
    "\n",
    "ax2.plot(bins, y, '--',color=\"orange\")\n",
    "ax.set_xlabel('Inference Time (ms)')\n",
    "ax.set_ylabel('Counts')\n",
    "ax2.set_ylabel('Normal Density')\n",
    "# ax.set_title('Distribution of Local Inference Time : mu='+str(round(mu,2))+' sig='+str(round(sigma,2)))\n",
    "# ax.set_title('Distribution of Cloud Inference Time: mu='+str(round(mu,2))+' sig='+str(round(sigma,2)))\n",
    "ax.set_title('Distribution of E2E Inference Time: mu='+str(round(mu,2))+' sig='+str(round(sigma,2)))\n",
    "\n",
    "\n",
    "mean, = ax.plot([mu,mu],[0, max(n)], 'k-', lw=2, color='red')\n",
    "mean.set_label('mu')\n",
    "# ax.plot([mu-(1.96*sigma/np.sqrt(sample_size)),mu-(1.96*sigma/np.sqrt(sample_size))],[0, max(n)], 'k-', lw=2, color='navy')\n",
    "# ax.plot([mu+(1.96*sigma/np.sqrt(sample_size)),mu+(1.96*sigma/np.sqrt(sample_size))],[0, max(n)], 'k-', lw=2, color='navy')\n",
    "\n",
    "# ax.plot([lower,lower],[0, max(n)], 'k-', lw=2, color='black')\n",
    "# ax.plot([upper,upper],[0, max(n)], 'k-', lw=2, color='black')\n",
    "\n",
    "# Tweak spacing to prevent clipping of ylabel\n",
    "fig.tight_layout()\n",
    "ax.legend()\n",
    "plt.show()\n",
    "\n",
    "# fig.savefig('results/local_distribution.png', dpi=600)\n",
    "# fig.savefig('results/cloud_distribution.png', dpi=600)\n",
    "fig.savefig('results/e2e_distribution.png', dpi=600)"
   ]
  },
  {
   "cell_type": "code",
   "execution_count": null,
   "metadata": {},
   "outputs": [],
   "source": []
  },
  {
   "cell_type": "code",
   "execution_count": null,
   "metadata": {},
   "outputs": [],
   "source": []
  }
 ],
 "metadata": {
  "kernelspec": {
   "display_name": "Python 3",
   "language": "python",
   "name": "python3"
  },
  "language_info": {
   "codemirror_mode": {
    "name": "ipython",
    "version": 3
   },
   "file_extension": ".py",
   "mimetype": "text/x-python",
   "name": "python",
   "nbconvert_exporter": "python",
   "pygments_lexer": "ipython3",
   "version": "3.7.6"
  }
 },
 "nbformat": 4,
 "nbformat_minor": 4
}
